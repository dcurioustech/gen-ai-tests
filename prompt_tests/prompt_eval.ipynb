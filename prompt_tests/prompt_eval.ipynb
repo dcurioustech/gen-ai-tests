{
 "cells": [
  {
   "cell_type": "code",
   "execution_count": 12,
   "id": "5a5cce19",
   "metadata": {},
   "outputs": [
    {
     "name": "stderr",
     "output_type": "stream",
     "text": [
      "huggingface/tokenizers: The current process just got forked, after parallelism has already been used. Disabling parallelism to avoid deadlocks...\n",
      "To disable this warning, you can either:\n",
      "\t- Avoid using `tokenizers` before the fork if possible\n",
      "\t- Explicitly set the environment variable TOKENIZERS_PARALLELISM=(true | false)\n"
     ]
    }
   ],
   "source": [
    "!pip install \"numpy<2.0\" bert-score sentence-transformers -q"
   ]
  },
  {
   "cell_type": "code",
   "execution_count": 13,
   "id": "46e50368",
   "metadata": {},
   "outputs": [],
   "source": [
    "# 📥 Import Libraries\n",
    "from bert_score import score\n",
    "from sentence_transformers import SentenceTransformer\n",
    "from sklearn.metrics.pairwise import cosine_similarity"
   ]
  },
  {
   "cell_type": "code",
   "execution_count": 14,
   "id": "b19d69c8",
   "metadata": {},
   "outputs": [],
   "source": [
    "# 🔧 Initialize SentenceTransformer Model\n",
    "model = SentenceTransformer('all-MiniLM-L6-v2')"
   ]
  },
  {
   "cell_type": "code",
   "execution_count": 15,
   "id": "77f780a7",
   "metadata": {},
   "outputs": [],
   "source": [
    "# 🧠 Sample Data\n",
    "examples = [\n",
    "    {\n",
    "        \"prompt\": \"What is the capital of France?\",\n",
    "        \"expected_answer\": \"Paris is the capital of France.\",\n",
    "        \"generated_answer\": \"The capital of France is Paris.\"\n",
    "    },\n",
    "    {\n",
    "        \"prompt\": \"Explain the process of photosynthesis.\",\n",
    "        \"expected_answer\": \"Photosynthesis is the process by which green plants convert sunlight into energy.\",\n",
    "        \"generated_answer\": \"Plants make energy using sunlight, a process called photosynthesis.\"\n",
    "    },\n",
    "    {\n",
    "        \"prompt\": \"Who wrote 'Pride and Prejudice'?\",\n",
    "        \"expected_answer\": \"Jane Austen wrote 'Pride and Prejudice'.\",\n",
    "        \"generated_answer\": \"The author of Pride and Prejudice is Jane Austen.\"\n",
    "    }\n",
    "]"
   ]
  },
  {
   "cell_type": "code",
   "execution_count": 16,
   "id": "a76cbe60",
   "metadata": {},
   "outputs": [],
   "source": [
    "# 🧪 BERTScore Evaluation Function\n",
    "def evaluate_bertscore(candidate, reference):\n",
    "    P, R, F1 = score([candidate], [reference], lang=\"en\", verbose=False)\n",
    "    return F1[0].item()"
   ]
  },
  {
   "cell_type": "code",
   "execution_count": 17,
   "id": "ec9102bc",
   "metadata": {},
   "outputs": [],
   "source": [
    "def evaluate_cosine_similarity(candidate, reference):\n",
    "    embeddings = model.encode([candidate, reference])\n",
    "    cos_sim = cosine_similarity([embeddings[0]], [embeddings[1]])\n",
    "    return cos_sim[0][0]"
   ]
  },
  {
   "cell_type": "code",
   "execution_count": 18,
   "id": "6a52275d",
   "metadata": {},
   "outputs": [],
   "source": [
    "def evaluate(prompt, expected, generated):\n",
    "    print(f\"Prompt: {prompt}\")\n",
    "    print(f\"Expected Answer: {expected}\")\n",
    "    print(f\"Generated Answer: {generated}\")\n",
    "\n",
    "    bertscore = evaluate_bertscore(generated, expected)\n",
    "    cos_sim = evaluate_cosine_similarity(generated, expected)\n",
    "\n",
    "    print(f\"\\nBERTScore F1: {bertscore:.4f}\")\n",
    "    print(\"A BERTScore F1 score close to 1 indicates high semantic similarity.\")\n",
    "    print(f\"Cosine Similarity: {cos_sim:.4f}\")\n",
    "    print(\"A cosine similarity close to 1 indicates high semantic similarity.\")\n",
    "    print(\"-\" * 50)"
   ]
  },
  {
   "cell_type": "code",
   "execution_count": 19,
   "id": "7b1d47ba",
   "metadata": {},
   "outputs": [
    {
     "name": "stdout",
     "output_type": "stream",
     "text": [
      "Prompt: What is the capital of France?\n",
      "Expected Answer: Paris is the capital of France.\n",
      "Generated Answer: The capital of France is Paris.\n"
     ]
    },
    {
     "name": "stderr",
     "output_type": "stream",
     "text": [
      "Some weights of RobertaModel were not initialized from the model checkpoint at roberta-large and are newly initialized: ['pooler.dense.bias', 'pooler.dense.weight']\n",
      "You should probably TRAIN this model on a down-stream task to be able to use it for predictions and inference.\n"
     ]
    },
    {
     "name": "stdout",
     "output_type": "stream",
     "text": [
      "\n",
      "BERTScore F1: 0.9337\n",
      "A BERTScore F1 score close to 1 indicates high semantic similarity.\n",
      "Cosine Similarity: 0.9894\n",
      "A cosine similarity close to 1 indicates high semantic similarity.\n",
      "--------------------------------------------------\n",
      "Prompt: Explain the process of photosynthesis.\n",
      "Expected Answer: Photosynthesis is the process by which green plants convert sunlight into energy.\n",
      "Generated Answer: Plants make energy using sunlight, a process called photosynthesis.\n"
     ]
    },
    {
     "name": "stderr",
     "output_type": "stream",
     "text": [
      "Some weights of RobertaModel were not initialized from the model checkpoint at roberta-large and are newly initialized: ['pooler.dense.bias', 'pooler.dense.weight']\n",
      "You should probably TRAIN this model on a down-stream task to be able to use it for predictions and inference.\n"
     ]
    },
    {
     "name": "stdout",
     "output_type": "stream",
     "text": [
      "\n",
      "BERTScore F1: 0.9019\n",
      "A BERTScore F1 score close to 1 indicates high semantic similarity.\n",
      "Cosine Similarity: 0.8675\n",
      "A cosine similarity close to 1 indicates high semantic similarity.\n",
      "--------------------------------------------------\n",
      "Prompt: Who wrote 'Pride and Prejudice'?\n",
      "Expected Answer: Jane Austen wrote 'Pride and Prejudice'.\n",
      "Generated Answer: The author of Pride and Prejudice is Jane Austen.\n"
     ]
    },
    {
     "name": "stderr",
     "output_type": "stream",
     "text": [
      "Some weights of RobertaModel were not initialized from the model checkpoint at roberta-large and are newly initialized: ['pooler.dense.bias', 'pooler.dense.weight']\n",
      "You should probably TRAIN this model on a down-stream task to be able to use it for predictions and inference.\n"
     ]
    },
    {
     "name": "stdout",
     "output_type": "stream",
     "text": [
      "\n",
      "BERTScore F1: 0.9278\n",
      "A BERTScore F1 score close to 1 indicates high semantic similarity.\n",
      "Cosine Similarity: 0.9122\n",
      "A cosine similarity close to 1 indicates high semantic similarity.\n",
      "--------------------------------------------------\n"
     ]
    }
   ],
   "source": [
    "for example in examples:\n",
    "    evaluate(example[\"prompt\"], example[\"expected_answer\"], example[\"generated_answer\"])\n"
   ]
  }
 ],
 "metadata": {
  "kernelspec": {
   "display_name": ".venv",
   "language": "python",
   "name": "python3"
  },
  "language_info": {
   "codemirror_mode": {
    "name": "ipython",
    "version": 3
   },
   "file_extension": ".py",
   "mimetype": "text/x-python",
   "name": "python",
   "nbconvert_exporter": "python",
   "pygments_lexer": "ipython3",
   "version": "3.12.3"
  }
 },
 "nbformat": 4,
 "nbformat_minor": 5
}
